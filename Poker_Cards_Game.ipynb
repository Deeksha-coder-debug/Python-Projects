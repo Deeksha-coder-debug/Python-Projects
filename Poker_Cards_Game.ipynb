{
  "nbformat": 4,
  "nbformat_minor": 0,
  "metadata": {
    "colab": {
      "provenance": [],
      "authorship_tag": "ABX9TyPhmcL6/uv3DoBo330PkxMc",
      "include_colab_link": true
    },
    "kernelspec": {
      "name": "python3",
      "display_name": "Python 3"
    },
    "language_info": {
      "name": "python"
    }
  },
  "cells": [
    {
      "cell_type": "markdown",
      "metadata": {
        "id": "view-in-github",
        "colab_type": "text"
      },
      "source": [
        "<a href=\"https://colab.research.google.com/github/Deeksha-coder-debug/Python-Projects/blob/main/Poker_Cards_Game.ipynb\" target=\"_parent\"><img src=\"https://colab.research.google.com/assets/colab-badge.svg\" alt=\"Open In Colab\"/></a>"
      ]
    },
    {
      "cell_type": "code",
      "execution_count": 1,
      "metadata": {
        "colab": {
          "base_uri": "https://localhost:8080/"
        },
        "id": "-q0iBu21AwDc",
        "outputId": "9c3f51b7-0586-4cb3-993b-5d5b68f1699a"
      },
      "outputs": [
        {
          "output_type": "stream",
          "name": "stdout",
          "text": [
            "Enter 1 card rank or no. and then separated by space enter suit :A club\n",
            "Enter 2 card rank or no. and then separated by space enter suit :9 spade\n",
            "Enter 3 card rank or no. and then separated by space enter suit :6 club\n",
            "Enter 4 card rank or no. and then separated by space enter suit :4 heart\n",
            "Enter 5 card rank or no. and then separated by space enter suit :2 diamond\n",
            "[('A', 'club'), (9, 'spade'), (6, 'club'), (4, 'heart'), (2, 'diamond')]\n",
            "Ranks of input cards are : ['A', 9, 6, 4, 2]\n",
            "Suits of input cards are : ['club', 'spade', 'club', 'heart', 'diamond']\n",
            "High Card !!!\n"
          ]
        }
      ],
      "source": [
        "# Online Python compiler (interpreter) to run Python online.\n",
        "# Write Python 3 code in this online editor and run it.\n",
        "from collections import Counter\n",
        "\n",
        "ip=[]\n",
        "suits=['club','spades','diamond','heart']\n",
        "ranks=['A','K','Q','J',10,9,8,7,6,5,4,3,2,1]\n",
        "for _ in range(5):\n",
        "    rank,suit=input(f'Enter {_+1} card rank or no. and then separated by space enter suit :').split()\n",
        "    # if suit not in suits or rank not in ranks:\n",
        "    #     print('Invalid Input')\n",
        "    if rank.isalpha():\n",
        "        ip.append((rank,suit))\n",
        "    else:\n",
        "        ip.append((int(rank),suit))\n",
        "print(ip)\n",
        "\n",
        "ip_rank=[x[0] for x in ip]\n",
        "ip_suit=[x[1] for x in ip]\n",
        "print(f'Ranks of input cards are : {ip_rank}')\n",
        "print(f'Suits of input cards are : {ip_suit}')\n",
        "freq = Counter(ip_rank)\n",
        "\n",
        "# Royal Flush\n",
        "# The highest possible rank with A, K, Q, J, 10 all in the same suit.\n",
        "if (all(card[0] in {'A','K','Q','J',10} for card in ip)) and len(set(ip_suit))==1:\n",
        "    print('Royal Flush Done !!!')\n",
        "# Straight Flush\n",
        "# 2nd rank with Five consecutive cards, all of the same suit\n",
        "elif all(r not in {'A','K','Q','J'} for r in ip_rank) and max(ip_rank)-min(ip_rank)==4 and len(set(ip_suit))==1:\n",
        "    print('Straight Flush Done !!!')\n",
        "# 3. Four of a Kind - Four cards of the same rank, plus one extra card\n",
        "elif any(ip_rank.count(rank) == 4 for rank in ip_rank):\n",
        "    print('Four of a Kind !!!')\n",
        "# 4. Full House - A Three of a Kind + a Pair\n",
        "elif list(freq.values()).count(3) == 1 and list(freq.values()).count(2) == 1:\n",
        "    print('Full House')\n",
        "# 5. Flush - Five cards of the same suit, not in sequence.\n",
        "elif len(set(ip_suit))==1:\n",
        "    print('Flush done !!!')\n",
        "# 6. Straight - Five consecutive cards, different suits allowed.\n",
        "elif all(r not in {'A','K','Q','J'} for r in ip_rank) and max(ip_rank)-min(ip_rank)==4:\n",
        "    print('Straight !!!')\n",
        "# 7. Three of a Kind - Three cards of the same rank, plus two random side cards\n",
        "elif any(ip_rank.count(rank) == 3 for rank in ip_rank):\n",
        "    print('Three of a Kind !!!')\n",
        "# 8. Two Pair - Two different pairs + one random card.\n",
        "elif list(freq.values()).count(2) == 2:\n",
        "    print('Two Pair !!!')\n",
        "# 9. One Pair - Two cards of the same rank + three random cards.\n",
        "elif list(freq.values()).count(2) == 1:\n",
        "    print('One Pair !!!')\n",
        "# 10. High Card - No pairs, no sequence, no same suit → just who has the highest card.\n",
        "else:\n",
        "    print('High Card !!!')\n",
        "\n"
      ]
    },
    {
      "cell_type": "code",
      "source": [],
      "metadata": {
        "id": "Dw8-wmzyAw_U"
      },
      "execution_count": null,
      "outputs": []
    }
  ]
}